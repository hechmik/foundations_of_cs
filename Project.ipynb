{
 "cells": [
  {
   "cell_type": "markdown",
   "metadata": {},
   "source": [
    "### About me:"
   ]
  },
  {
   "cell_type": "markdown",
   "metadata": {},
   "source": [
    "- Name: Khaled\n",
    "- Surname: Hechmi\n",
    "- Email: k.hechmi@campus.unimib.it\n",
    "- Student ID: 793085"
   ]
  },
  {
   "cell_type": "markdown",
   "metadata": {},
   "source": [
    "## Import libraries"
   ]
  },
  {
   "cell_type": "code",
   "execution_count": null,
   "metadata": {},
   "outputs": [],
   "source": [
    "import pandas as pd\n",
    "import numpy as np\n",
    "from datetime import date\n",
    "import requests\n",
    "import json"
   ]
  },
  {
   "cell_type": "markdown",
   "metadata": {},
   "source": [
    "## 1. Normalize the loan_lenders table. In the normalized table, each row must have one loan_id and one lender.\n",
    "The dataset of interest is loans_lenders.csv, therefore let's download it:"
   ]
  },
  {
   "cell_type": "code",
   "execution_count": null,
   "metadata": {},
   "outputs": [],
   "source": [
    "loans_lenders_df = pd.read_csv(\"additional-kiva-snapshot/loans_lenders.csv\")"
   ]
  },
  {
   "cell_type": "markdown",
   "metadata": {},
   "source": [
    "### Basic data exploration and statistics"
   ]
  },
  {
   "cell_type": "code",
   "execution_count": null,
   "metadata": {},
   "outputs": [],
   "source": [
    "loans_lenders_df.head()"
   ]
  },
  {
   "cell_type": "code",
   "execution_count": null,
   "metadata": {},
   "outputs": [],
   "source": [
    "loans_lenders_df.tail()"
   ]
  },
  {
   "cell_type": "markdown",
   "metadata": {},
   "source": [
    "How many records are there?"
   ]
  },
  {
   "cell_type": "code",
   "execution_count": null,
   "metadata": {},
   "outputs": [],
   "source": [
    "loans_lenders_df.shape"
   ]
  },
  {
   "cell_type": "markdown",
   "metadata": {},
   "source": [
    "How many NA values are in this dataframe?"
   ]
  },
  {
   "cell_type": "code",
   "execution_count": null,
   "metadata": {},
   "outputs": [],
   "source": [
    "loans_lenders_df.isna().sum()"
   ]
  },
  {
   "cell_type": "markdown",
   "metadata": {},
   "source": [
    "Are there duplicated loan_id values?"
   ]
  },
  {
   "cell_type": "code",
   "execution_count": null,
   "metadata": {},
   "outputs": [],
   "source": [
    "len(loans_lenders_df['loan_id'].unique())"
   ]
  },
  {
   "cell_type": "markdown",
   "metadata": {},
   "source": [
    "That's good, each id is unique. I can now focus on how to normalize the table: the first thing to do will be to split the strings in the lenders column, so that we can have a list of lenders"
   ]
  },
  {
   "cell_type": "code",
   "execution_count": null,
   "metadata": {},
   "outputs": [],
   "source": [
    "loans_lenders_df['lenders'] = loans_lenders_df['lenders'].apply(lambda x : x.split(','))"
   ]
  },
  {
   "cell_type": "code",
   "execution_count": null,
   "metadata": {},
   "outputs": [],
   "source": [
    "loans_lenders_df = loans_lenders_df.explode('lenders').reset_index(drop=True)"
   ]
  },
  {
   "cell_type": "markdown",
   "metadata": {},
   "source": [
    "Let's see if everything work as expected:"
   ]
  },
  {
   "cell_type": "code",
   "execution_count": null,
   "metadata": {},
   "outputs": [],
   "source": [
    "loans_lenders_df.head()"
   ]
  },
  {
   "cell_type": "code",
   "execution_count": null,
   "metadata": {},
   "outputs": [],
   "source": [
    "loans_lenders_df.tail()"
   ]
  },
  {
   "cell_type": "markdown",
   "metadata": {},
   "source": [
    "Just for curiosity let's have a look at a random row:"
   ]
  },
  {
   "cell_type": "code",
   "execution_count": null,
   "metadata": {},
   "outputs": [],
   "source": [
    "loans_lenders_df.iloc[45]"
   ]
  },
  {
   "cell_type": "code",
   "execution_count": null,
   "metadata": {},
   "outputs": [],
   "source": [
    "loans_lenders_df.shape"
   ]
  },
  {
   "cell_type": "markdown",
   "metadata": {},
   "source": [
    "## 2. For each loan, add a column duration corresponding to the number of days between the disburse time and the planned expiration time. If any of those two dates is missing, also the duration must be missing."
   ]
  },
  {
   "cell_type": "markdown",
   "metadata": {},
   "source": [
    "The first step is to load the loans dataset"
   ]
  },
  {
   "cell_type": "code",
   "execution_count": null,
   "metadata": {},
   "outputs": [],
   "source": [
    "loans_df = pd.read_csv(\"additional-kiva-snapshot/loans.csv\")"
   ]
  },
  {
   "cell_type": "code",
   "execution_count": null,
   "metadata": {
    "scrolled": true
   },
   "outputs": [],
   "source": [
    "loans_df.columns"
   ]
  },
  {
   "cell_type": "code",
   "execution_count": null,
   "metadata": {},
   "outputs": [],
   "source": [
    "loans_df.head()"
   ]
  },
  {
   "cell_type": "code",
   "execution_count": null,
   "metadata": {},
   "outputs": [],
   "source": [
    "loans_df.tail()"
   ]
  },
  {
   "cell_type": "code",
   "execution_count": null,
   "metadata": {},
   "outputs": [],
   "source": [
    "loans_df.describe()"
   ]
  },
  {
   "cell_type": "markdown",
   "metadata": {},
   "source": [
    "There are many columns! At the moment only disburse_time and planned_expiration_time seems relevant, together with loan_id, therefore it is better to filter the df!"
   ]
  },
  {
   "cell_type": "code",
   "execution_count": null,
   "metadata": {},
   "outputs": [],
   "source": [
    "columns_of_interest = ['loan_id', 'disburse_time','planned_expiration_time']"
   ]
  },
  {
   "cell_type": "code",
   "execution_count": null,
   "metadata": {},
   "outputs": [],
   "source": [
    "loans_filtered = loans_df[columns_of_interest]"
   ]
  },
  {
   "cell_type": "code",
   "execution_count": null,
   "metadata": {},
   "outputs": [],
   "source": [
    "loans_filtered.head()"
   ]
  },
  {
   "cell_type": "code",
   "execution_count": null,
   "metadata": {},
   "outputs": [],
   "source": [
    "loans_filtered.tail()"
   ]
  },
  {
   "cell_type": "code",
   "execution_count": null,
   "metadata": {},
   "outputs": [],
   "source": [
    "loans_filtered.shape"
   ]
  },
  {
   "cell_type": "code",
   "execution_count": null,
   "metadata": {},
   "outputs": [],
   "source": [
    "len(loans_filtered['loan_id'].unique())"
   ]
  },
  {
   "cell_type": "markdown",
   "metadata": {},
   "source": [
    "No duplicate rows, this is good. Let's now have a look at the two variables:"
   ]
  },
  {
   "cell_type": "code",
   "execution_count": null,
   "metadata": {},
   "outputs": [],
   "source": [
    "loans_filtered.disburse_time.describe()"
   ]
  },
  {
   "cell_type": "code",
   "execution_count": null,
   "metadata": {},
   "outputs": [],
   "source": [
    "loans_filtered.planned_expiration_time.describe()"
   ]
  },
  {
   "cell_type": "markdown",
   "metadata": {},
   "source": [
    "They are seen as a generic object from Pandas even though they are dates.\n",
    "How many NAs are there?"
   ]
  },
  {
   "cell_type": "code",
   "execution_count": null,
   "metadata": {},
   "outputs": [],
   "source": [
    "loans_filtered.disburse_time.isna().sum()"
   ]
  },
  {
   "cell_type": "code",
   "execution_count": null,
   "metadata": {},
   "outputs": [],
   "source": [
    "loans_filtered.planned_expiration_time.isna().sum()"
   ]
  },
  {
   "cell_type": "markdown",
   "metadata": {},
   "source": [
    "Now let's convert these two variable in appropriate datetime objects"
   ]
  },
  {
   "cell_type": "code",
   "execution_count": null,
   "metadata": {},
   "outputs": [],
   "source": [
    "loans_filtered.disburse_time = pd.to_datetime(loans_filtered.disburse_time)"
   ]
  },
  {
   "cell_type": "code",
   "execution_count": null,
   "metadata": {},
   "outputs": [],
   "source": [
    "loans_filtered.planned_expiration_time = pd.to_datetime(loans_filtered.planned_expiration_time)"
   ]
  },
  {
   "cell_type": "markdown",
   "metadata": {},
   "source": [
    "Now computing the difference between these two columns is easy:"
   ]
  },
  {
   "cell_type": "code",
   "execution_count": null,
   "metadata": {},
   "outputs": [],
   "source": [
    "loans_filtered['diff_expiration_disburse'] = loans_filtered.planned_expiration_time - loans_filtered.disburse_time"
   ]
  },
  {
   "cell_type": "code",
   "execution_count": null,
   "metadata": {},
   "outputs": [],
   "source": [
    "loans_filtered.head()"
   ]
  },
  {
   "cell_type": "code",
   "execution_count": null,
   "metadata": {},
   "outputs": [],
   "source": [
    "loans_filtered.describe()"
   ]
  },
  {
   "cell_type": "code",
   "execution_count": null,
   "metadata": {},
   "outputs": [],
   "source": [
    "loans_filtered.diff_expiration_disburse.isna().sum()"
   ]
  },
  {
   "cell_type": "markdown",
   "metadata": {},
   "source": [
    "Is the number plausible? It should be less or equal than the number of NAs in the two columns:"
   ]
  },
  {
   "cell_type": "code",
   "execution_count": null,
   "metadata": {},
   "outputs": [],
   "source": [
    "loans_filtered.disburse_time.isna().sum() + loans_filtered.planned_expiration_time.isna().sum()"
   ]
  },
  {
   "cell_type": "markdown",
   "metadata": {},
   "source": [
    "Apparently yes! It means that in 2 scenarios both planned_expiration_time and disburse_time where NAs. Let's see where:"
   ]
  },
  {
   "cell_type": "code",
   "execution_count": null,
   "metadata": {},
   "outputs": [],
   "source": [
    "loans_filtered[loans_filtered[['disburse_time', 'planned_expiration_time']].isna().all(axis=1)]"
   ]
  },
  {
   "cell_type": "markdown",
   "metadata": {},
   "source": [
    "## 3. Find the lenders that have funded at least twice."
   ]
  },
  {
   "cell_type": "markdown",
   "metadata": {},
   "source": [
    "It is possible to reuse the dataframe create at Q1. Grouping data by the lenders name and counting the frequencies will be enough for answering the question."
   ]
  },
  {
   "cell_type": "code",
   "execution_count": null,
   "metadata": {},
   "outputs": [],
   "source": [
    "funding_freq = loans_lenders_df.groupby('lenders').lenders.count()\n",
    "funding_freq"
   ]
  },
  {
   "cell_type": "code",
   "execution_count": null,
   "metadata": {},
   "outputs": [],
   "source": [
    "funding_freq = funding_freq.to_frame()"
   ]
  },
  {
   "cell_type": "code",
   "execution_count": null,
   "metadata": {},
   "outputs": [],
   "source": [
    "funding_freq"
   ]
  },
  {
   "cell_type": "markdown",
   "metadata": {},
   "source": [
    "We are interested only on lenders who have funded at least twice, therefore let's filter the rows accordingly"
   ]
  },
  {
   "cell_type": "code",
   "execution_count": null,
   "metadata": {},
   "outputs": [],
   "source": [
    "funding_freq[funding_freq.lenders >= 2]"
   ]
  },
  {
   "cell_type": "markdown",
   "metadata": {},
   "source": [
    "## 4. For each country, compute how many loans have involved that country as borrowers."
   ]
  },
  {
   "cell_type": "code",
   "execution_count": null,
   "metadata": {},
   "outputs": [],
   "source": [
    "loans_df.columns"
   ]
  },
  {
   "cell_type": "markdown",
   "metadata": {},
   "source": [
    "Let's filter, once again, the loans dataset keeping only the columns of interest:\n",
    "- loan_id\n",
    "- country_code\n",
    "- country_name"
   ]
  },
  {
   "cell_type": "code",
   "execution_count": null,
   "metadata": {},
   "outputs": [],
   "source": [
    "loans_filtered['country_code'] = loans_df['country_code']\n",
    "loans_filtered['country_name'] = loans_df['country_name']"
   ]
  },
  {
   "cell_type": "code",
   "execution_count": null,
   "metadata": {},
   "outputs": [],
   "source": [
    "loans_filtered.head()"
   ]
  },
  {
   "cell_type": "markdown",
   "metadata": {},
   "source": [
    "We have add the information related to each loan country. Now it is really easy to compute the answer:"
   ]
  },
  {
   "cell_type": "code",
   "execution_count": null,
   "metadata": {},
   "outputs": [],
   "source": [
    "loans_country = loans_filtered.country_name.value_counts()\n",
    "loans_country"
   ]
  },
  {
   "cell_type": "markdown",
   "metadata": {},
   "source": [
    "##  5. For each country, compute the overall amount of money borrowed."
   ]
  },
  {
   "cell_type": "code",
   "execution_count": null,
   "metadata": {},
   "outputs": [],
   "source": [
    "loans_df.columns"
   ]
  },
  {
   "cell_type": "markdown",
   "metadata": {},
   "source": [
    "In the loans dataset there is a column named \"currency\", that indicates the currency of a given amount. Therefore it is important to convert the 'loan_amount' to a reference currency (USD)"
   ]
  },
  {
   "cell_type": "code",
   "execution_count": null,
   "metadata": {},
   "outputs": [],
   "source": [
    "loans_filtered['loan_amount'] = loans_df['loan_amount']\n",
    "loans_filtered['currency'] = loans_df['currency']\n",
    "loans_filtered.head()"
   ]
  },
  {
   "cell_type": "markdown",
   "metadata": {},
   "source": [
    "Which are the currencies in our dataset?"
   ]
  },
  {
   "cell_type": "code",
   "execution_count": null,
   "metadata": {},
   "outputs": [],
   "source": [
    "loans_filtered['currency'].unique()"
   ]
  },
  {
   "cell_type": "markdown",
   "metadata": {},
   "source": [
    "For converting these currencies I will use the free [Currency Converter API](https://www.currencyconverterapi.com/). Please keep in mind that this approach, even though it converts all the loan_amount to the same currency, is not ideal because:\n",
    "- It does not take into consideration the exchange rate in the time period where the loans were taken\n",
    "- It does not take into consideration inflation rates across the different years"
   ]
  },
  {
   "cell_type": "code",
   "execution_count": null,
   "metadata": {},
   "outputs": [],
   "source": [
    "%%time\n",
    "url_currency = \"https://free.currconv.com/api/v7/convert?q={}&compact=ultra&apiKey=34929da3012332915e3e\"\n",
    "results = {}\n",
    "for currency in loans_filtered['currency'].unique():\n",
    "    conversion_query=\"{}_USD\".format(currency)\n",
    "    current_url = url_currency.format(conversion_query)\n",
    "    result = requests.get(current_url).content\n",
    "    try:\n",
    "        results[currency] = json.loads(result)[conversion_query]\n",
    "    except:\n",
    "        print(\"{} value not found\".format(conversion_query))\n",
    "        results[currency] = None\n",
    "    #results[currency] = requests.get(url_currency.format(currency)).content\n",
    "\n",
    "    "
   ]
  },
  {
   "cell_type": "markdown",
   "metadata": {},
   "source": [
    "- [SSP](https://www.google.com/search?hl=en&ei=WqxOXuCVD8f76QTez6UI&q=ssp+currency&oq=ssp+currency&gs_l=psy-ab.3..0l3j0i22i30l3.3353.4669..4907...0.2..0.120.929.4j5......0....1..gws-wiz.......0i71j0i67.k8hD5JFknpI&ved=0ahUKEwjgqpCrv-DnAhXHfZoKHd5nCQEQ4dUDCAs&uact=5) is the South Sudanese Pound and it replaces the Sudanese Pound [SDG](https://www.google.com/search?hl=en&ei=YKxOXqjVDoyCk74PmoaLsAc&q=sudanese+pound+currency&oq=sudanese+pound+currency&gs_l=psy-ab.3..0i22i30l5.50934.54867..55137...0.4..0.150.2411.9j14......0....1..gws-wiz.......0i71j0i67j0j0i67i70i251j0i70i258j0i8i13i30.hIs6AnVdQ94&ved=0ahUKEwiohf6tv-DnAhUMwcQBHRrDAnYQ4dUDCAs&uact=5)\n",
    "- ZWD is not in the list. Today (22/02) the exchange rate according to XE.com is 1 ZWD = 0.00276319 USD"
   ]
  },
  {
   "cell_type": "code",
   "execution_count": null,
   "metadata": {},
   "outputs": [],
   "source": [
    "results['ZWD'] = 0.00276319\n",
    "results['SSP'] = results['SDG']"
   ]
  },
  {
   "cell_type": "markdown",
   "metadata": {},
   "source": [
    "Let's have a look at the exchange rates:"
   ]
  },
  {
   "cell_type": "code",
   "execution_count": null,
   "metadata": {},
   "outputs": [],
   "source": [
    "results"
   ]
  },
  {
   "cell_type": "markdown",
   "metadata": {},
   "source": [
    "Now it is possible to convert the different loans amount into USD:"
   ]
  },
  {
   "cell_type": "code",
   "execution_count": null,
   "metadata": {},
   "outputs": [],
   "source": [
    "%%time\n",
    "for currency in results.keys():\n",
    "    currency_index = loans_filtered.index[loans_filtered['currency'] == currency]\n",
    "    loans_filtered.loc[currency_index, 'loan_amount'] = loans_filtered.loc[currency_index, 'loan_amount'] * results[currency]\n",
    "    "
   ]
  },
  {
   "cell_type": "code",
   "execution_count": null,
   "metadata": {},
   "outputs": [],
   "source": [
    "loans_filtered.head()"
   ]
  },
  {
   "cell_type": "markdown",
   "metadata": {},
   "source": [
    "Now for answering the starting question it is sufficient to group data according to their country and sum the loan_amount values"
   ]
  },
  {
   "cell_type": "code",
   "execution_count": null,
   "metadata": {},
   "outputs": [],
   "source": [
    "overall_money_borrowed = loans_filtered.groupby('country_name')['loan_amount'].agg(Money_borrowed='sum')\n",
    "overall_money_borrowed"
   ]
  },
  {
   "cell_type": "markdown",
   "metadata": {},
   "source": [
    "## 6. Like the previous point, but expressed as a percentage of the overall amount lent."
   ]
  },
  {
   "cell_type": "markdown",
   "metadata": {},
   "source": [
    "First step = finding the overall amount lent"
   ]
  },
  {
   "cell_type": "code",
   "execution_count": null,
   "metadata": {},
   "outputs": [],
   "source": [
    "overall_amount_lent = loans_filtered.loan_amount.sum()\n",
    "overall_amount_lent"
   ]
  },
  {
   "cell_type": "markdown",
   "metadata": {},
   "source": [
    "Now we can reuse the previously computed dataset and transform its values into percentages"
   ]
  },
  {
   "cell_type": "code",
   "execution_count": null,
   "metadata": {},
   "outputs": [],
   "source": [
    "money_borrowed_perc = (overall_money_borrowed/overall_amount_lent) * 100\n",
    "money_borrowed_perc"
   ]
  },
  {
   "cell_type": "markdown",
   "metadata": {},
   "source": [
    "If everything is correct the column Money_borrowed_perc should sum to 100. Let's find out:"
   ]
  },
  {
   "cell_type": "code",
   "execution_count": null,
   "metadata": {},
   "outputs": [],
   "source": [
    "money_borrowed_perc.Money_borrowed.sum()"
   ]
  },
  {
   "cell_type": "markdown",
   "metadata": {},
   "source": [
    "Thats good! The result is not exactly 100 because of decimal numbers approximation"
   ]
  },
  {
   "cell_type": "markdown",
   "metadata": {},
   "source": [
    "## 7. Like the three previous points, but split for each year (with respect to disburse time)."
   ]
  },
  {
   "cell_type": "code",
   "execution_count": null,
   "metadata": {},
   "outputs": [],
   "source": [
    "loans_filtered.head()"
   ]
  },
  {
   "cell_type": "code",
   "execution_count": null,
   "metadata": {},
   "outputs": [],
   "source": [
    "loans_filtered['disburse_time'].describe()"
   ]
  },
  {
   "cell_type": "code",
   "execution_count": null,
   "metadata": {},
   "outputs": [],
   "source": [
    "type(loans_filtered['disburse_time'])"
   ]
  },
  {
   "cell_type": "code",
   "execution_count": null,
   "metadata": {},
   "outputs": [],
   "source": [
    "loans_filtered['disburse_year'] = loans_filtered['disburse_time'].dt.year"
   ]
  },
  {
   "cell_type": "markdown",
   "metadata": {},
   "source": [
    "### For each country, compute how many loans have involved that country as borrowers."
   ]
  },
  {
   "cell_type": "code",
   "execution_count": null,
   "metadata": {},
   "outputs": [],
   "source": [
    "loans_country_year = loans_filtered.groupby(['country_name', 'disburse_year'])['loan_id'].agg(Loans_freq='count')\n",
    "loans_country_year"
   ]
  },
  {
   "cell_type": "markdown",
   "metadata": {},
   "source": [
    "For being sure to have done everything correctly let's compare the results obtained at this stage for Afghanistan and the ones obtained by the same countryat task 4 "
   ]
  },
  {
   "cell_type": "code",
   "execution_count": null,
   "metadata": {},
   "outputs": [],
   "source": [
    "loans_country_year.loc['Afghanistan']"
   ]
  },
  {
   "cell_type": "code",
   "execution_count": null,
   "metadata": {},
   "outputs": [],
   "source": [
    "loans_country_year.loc['Afghanistan'].sum()"
   ]
  },
  {
   "cell_type": "code",
   "execution_count": null,
   "metadata": {},
   "outputs": [],
   "source": [
    "loans_country['Afghanistan']"
   ]
  },
  {
   "cell_type": "markdown",
   "metadata": {},
   "source": [
    "The results are equal, therefore the procedure is ok"
   ]
  },
  {
   "cell_type": "markdown",
   "metadata": {},
   "source": [
    "### For each country, compute the overall amount of money borrowed."
   ]
  },
  {
   "cell_type": "code",
   "execution_count": null,
   "metadata": {},
   "outputs": [],
   "source": [
    "overall_money_borrowed_year = loans_filtered.groupby(\n",
    "    ['country_name', 'disburse_year'])['loan_amount'].agg(Money_borrowed='sum')\n",
    "overall_money_borrowed_year"
   ]
  },
  {
   "cell_type": "markdown",
   "metadata": {},
   "source": [
    "Let's perform the same check:"
   ]
  },
  {
   "cell_type": "code",
   "execution_count": null,
   "metadata": {
    "scrolled": true
   },
   "outputs": [],
   "source": [
    "overall_money_borrowed_year.loc['Afghanistan']"
   ]
  },
  {
   "cell_type": "code",
   "execution_count": null,
   "metadata": {},
   "outputs": [],
   "source": [
    "overall_money_borrowed_year.loc['Afghanistan'].sum()"
   ]
  },
  {
   "cell_type": "code",
   "execution_count": null,
   "metadata": {},
   "outputs": [],
   "source": [
    "overall_money_borrowed.loc['Afghanistan'].sum()"
   ]
  },
  {
   "cell_type": "markdown",
   "metadata": {},
   "source": [
    "Everything looks fine"
   ]
  },
  {
   "cell_type": "markdown",
   "metadata": {},
   "source": [
    "### Like the previous point, but expressed as a percentage of the overall amount lent."
   ]
  },
  {
   "cell_type": "code",
   "execution_count": null,
   "metadata": {},
   "outputs": [],
   "source": [
    "money_borrowed_year_perc = (overall_money_borrowed_year/overall_amount_lent) * 100\n",
    "money_borrowed_year_perc"
   ]
  },
  {
   "cell_type": "markdown",
   "metadata": {},
   "source": [
    "Once again let's check the results:"
   ]
  },
  {
   "cell_type": "code",
   "execution_count": null,
   "metadata": {},
   "outputs": [],
   "source": [
    "money_borrowed_year_perc.Money_borrowed.sum()"
   ]
  },
  {
   "cell_type": "markdown",
   "metadata": {},
   "source": [
    "Considering the numbers of countries and the number of year losing 2.9% due to decimal approximation seems reasonable. Let's now check Afghanistan results:"
   ]
  },
  {
   "cell_type": "code",
   "execution_count": null,
   "metadata": {},
   "outputs": [],
   "source": [
    "money_borrowed_year_perc.loc['Afghanistan'].sum()"
   ]
  },
  {
   "cell_type": "code",
   "execution_count": null,
   "metadata": {},
   "outputs": [],
   "source": [
    "100 * (overall_money_borrowed_year.loc['Afghanistan'].sum()/overall_amount_lent)"
   ]
  },
  {
   "cell_type": "markdown",
   "metadata": {},
   "source": [
    "The results seems good also in this case."
   ]
  },
  {
   "cell_type": "markdown",
   "metadata": {},
   "source": [
    "## 8. For each lender, compute the overall amount of money lent. For each loan that has more than one lender, you must assume that all lenders contributed the same amount."
   ]
  },
  {
   "cell_type": "code",
   "execution_count": null,
   "metadata": {},
   "outputs": [],
   "source": [
    "loans_df.head()"
   ]
  },
  {
   "cell_type": "code",
   "execution_count": null,
   "metadata": {},
   "outputs": [],
   "source": [
    "loans_df.shape"
   ]
  },
  {
   "cell_type": "code",
   "execution_count": null,
   "metadata": {},
   "outputs": [],
   "source": [
    "len(loans_df.loan_id.unique())"
   ]
  },
  {
   "cell_type": "code",
   "execution_count": null,
   "metadata": {},
   "outputs": [],
   "source": [
    "loans_lenders_df"
   ]
  },
  {
   "cell_type": "markdown",
   "metadata": {},
   "source": [
    "The first step will be to compute the number of people involved in each loan"
   ]
  },
  {
   "cell_type": "code",
   "execution_count": null,
   "metadata": {},
   "outputs": [],
   "source": [
    "loan_id_number_of_lenders= loans_lenders_df.groupby('loan_id')['lenders'].agg(number_of_lenders=\"count\")\n",
    "loan_id_number_of_lenders"
   ]
  },
  {
   "cell_type": "markdown",
   "metadata": {},
   "source": [
    "Let's see if the result is correct by manually checking some loans:"
   ]
  },
  {
   "cell_type": "code",
   "execution_count": null,
   "metadata": {},
   "outputs": [],
   "source": [
    "loans_lenders_df[loans_lenders_df.loan_id == 84]"
   ]
  },
  {
   "cell_type": "code",
   "execution_count": null,
   "metadata": {},
   "outputs": [],
   "source": [
    "loans_lenders_df[loans_lenders_df.loan_id == 85]"
   ]
  },
  {
   "cell_type": "code",
   "execution_count": null,
   "metadata": {},
   "outputs": [],
   "source": [
    "loans_lenders_df[loans_lenders_df.loan_id == 1444065]"
   ]
  },
  {
   "cell_type": "markdown",
   "metadata": {},
   "source": [
    "Let's now create a table where only the loan_id and the amount of money lent is present:"
   ]
  },
  {
   "cell_type": "code",
   "execution_count": null,
   "metadata": {},
   "outputs": [],
   "source": [
    "loan_id_amount = loans_filtered.filter(['loan_id', 'loan_amount'])\n",
    "loan_id_amount.head()"
   ]
  },
  {
   "cell_type": "markdown",
   "metadata": {},
   "source": [
    "For finding the answer it is necessary to have a dataframe where loan_id, lender names, number of lenders and loan_amount are there. Therefore the following operation needs to be done: loans_lenders_df JOIN number_of_lenders JOIN loan_id_amount"
   ]
  },
  {
   "cell_type": "code",
   "execution_count": null,
   "metadata": {},
   "outputs": [],
   "source": [
    "loans_lenders_join_number_of_lenders = loans_lenders_df\n",
    "loans_lenders_join_number_of_lenders= loans_lenders_join_number_of_lenders.join(loan_id_number_of_lenders, on=\"loan_id\")"
   ]
  },
  {
   "cell_type": "code",
   "execution_count": null,
   "metadata": {},
   "outputs": [],
   "source": [
    "loans_lenders_join_number_of_lenders_join_loan_id_amount = loans_lenders_join_number_of_lenders.join(loan_id_amount, on='loan_id', lsuffix='',rsuffix= '_right')"
   ]
  },
  {
   "cell_type": "code",
   "execution_count": null,
   "metadata": {},
   "outputs": [],
   "source": [
    "loans_lenders_join_number_of_lenders_join_loan_id_amount.head()"
   ]
  },
  {
   "cell_type": "code",
   "execution_count": null,
   "metadata": {},
   "outputs": [],
   "source": [
    "del loans_lenders_join_number_of_lenders_join_loan_id_amount['loan_id_right']\n",
    "loans_lenders_join_number_of_lenders_join_loan_id_amount.head()"
   ]
  },
  {
   "cell_type": "markdown",
   "metadata": {},
   "source": [
    "Let's now create a new column that contains the contribution of each lender to the final loan:"
   ]
  },
  {
   "cell_type": "code",
   "execution_count": null,
   "metadata": {},
   "outputs": [],
   "source": [
    "loans_lenders_join_number_of_lenders_join_loan_id_amount['loan_amount_per_lender'] = loans_lenders_join_number_of_lenders_join_loan_id_amount['loan_amount'] / loans_lenders_join_number_of_lenders_join_loan_id_amount['number_of_lenders']\n",
    "loans_lenders_join_number_of_lenders_join_loan_id_amount.head()"
   ]
  },
  {
   "cell_type": "markdown",
   "metadata": {},
   "source": [
    "Now it is possible to find the final answer:"
   ]
  },
  {
   "cell_type": "code",
   "execution_count": null,
   "metadata": {},
   "outputs": [],
   "source": [
    "money_lent_per_lenders = loans_lenders_join_number_of_lenders_join_loan_id_amount.groupby('lenders')['loan_amount_per_lender'].agg(money_lent='sum')\n",
    "money_lent_per_lenders"
   ]
  },
  {
   "cell_type": "markdown",
   "metadata": {},
   "source": [
    "## 9. For each country, compute the difference between the overall amount of money lent and the overall amount of money borrowed.\n",
    "Since the country of the lender is often unknown, you can assume that the true distribution among the countries is the same as the one computed from the rows where the country is known."
   ]
  },
  {
   "cell_type": "markdown",
   "metadata": {},
   "source": [
    "Let's load the lenders dataset:"
   ]
  },
  {
   "cell_type": "code",
   "execution_count": null,
   "metadata": {},
   "outputs": [],
   "source": [
    "lenders  = pd.read_csv(\"additional-kiva-snapshot/lenders.csv\")\n",
    "lenders.head()"
   ]
  },
  {
   "cell_type": "code",
   "execution_count": null,
   "metadata": {},
   "outputs": [],
   "source": [
    "loans_lenders_df.head()"
   ]
  },
  {
   "cell_type": "markdown",
   "metadata": {},
   "source": [
    "### Money lent"
   ]
  },
  {
   "cell_type": "markdown",
   "metadata": {},
   "source": [
    "In order to find the lent amoun money for each country we need to have in a single df the loan_ids, the lenders names and their country:"
   ]
  },
  {
   "cell_type": "code",
   "execution_count": null,
   "metadata": {},
   "outputs": [],
   "source": [
    "lenders_loan_id = pd.merge(loans_lenders_df, lenders[['permanent_name', 'country_code']],left_on=\"lenders\", right_on=\"permanent_name\")"
   ]
  },
  {
   "cell_type": "code",
   "execution_count": null,
   "metadata": {},
   "outputs": [],
   "source": [
    "lenders_loan_id.head()"
   ]
  },
  {
   "cell_type": "markdown",
   "metadata": {},
   "source": [
    "Now it is needed to check if there are any NAs in the country column: for fill them NA it will be taken into consideration the data distribution. Before doing that, in order to avoid distorting data, we will remove all the duplicated rows: as we have seen in the previous tasks there are a huge number of lenders who have funded more than one loan"
   ]
  },
  {
   "cell_type": "code",
   "execution_count": null,
   "metadata": {},
   "outputs": [],
   "source": [
    "lenders_country = lenders_loan_id[['lenders', 'country_code']].drop_duplicates()\n",
    "lenders_country.head()"
   ]
  },
  {
   "cell_type": "markdown",
   "metadata": {},
   "source": [
    "How many NAs are there?"
   ]
  },
  {
   "cell_type": "code",
   "execution_count": null,
   "metadata": {},
   "outputs": [],
   "source": [
    "missing_country_code = lenders_country.country_code.isnull()\n",
    "sum(missing_country_code)"
   ]
  },
  {
   "cell_type": "code",
   "execution_count": null,
   "metadata": {},
   "outputs": [],
   "source": [
    "unique_countries_distribution = lenders_country.country_code.value_counts(normalize=True)\n",
    "unique_countries_distribution"
   ]
  },
  {
   "cell_type": "markdown",
   "metadata": {},
   "source": [
    "Now it is possible to replace the values:"
   ]
  },
  {
   "cell_type": "code",
   "execution_count": null,
   "metadata": {},
   "outputs": [],
   "source": [
    "len(missing_country_code.index)"
   ]
  },
  {
   "cell_type": "code",
   "execution_count": null,
   "metadata": {},
   "outputs": [],
   "source": [
    "len(lenders_country[missing_country_code])"
   ]
  },
  {
   "cell_type": "code",
   "execution_count": null,
   "metadata": {},
   "outputs": [],
   "source": [
    "lenders_country.loc[missing_country_code,'country_code'] = np.random.choice(unique_countries_distribution.index,\n",
    "                                                                            size=len(lenders_country[missing_country_code]),\n",
    "                                                                            p=unique_countries_distribution.values)\n"
   ]
  },
  {
   "cell_type": "code",
   "execution_count": null,
   "metadata": {},
   "outputs": [],
   "source": [
    "lenders_country.head()"
   ]
  },
  {
   "cell_type": "markdown",
   "metadata": {},
   "source": [
    "How many NAs?"
   ]
  },
  {
   "cell_type": "code",
   "execution_count": null,
   "metadata": {},
   "outputs": [],
   "source": [
    "missing_country_code = lenders_country.country_code.isnull()\n",
    "sum(missing_country_code)"
   ]
  },
  {
   "cell_type": "markdown",
   "metadata": {},
   "source": [
    "We can now add to the dataset the overall amount of money that each lender has lent, using the answer at the previous question:"
   ]
  },
  {
   "cell_type": "code",
   "execution_count": null,
   "metadata": {},
   "outputs": [],
   "source": [
    "money_lent_per_lender_country = pd.merge(lenders_country, money_lent_per_lenders, left_on=\"lenders\", right_index=True)\n",
    "money_lent_per_lender_country"
   ]
  },
  {
   "cell_type": "markdown",
   "metadata": {},
   "source": [
    "Now computing the amount of money lent by each country requires just a group by country and a sum of the money_lent values"
   ]
  },
  {
   "cell_type": "code",
   "execution_count": null,
   "metadata": {},
   "outputs": [],
   "source": [
    "money_lent_by_country = money_lent_per_lender_country.groupby('country_code')['money_lent'].agg(overall_money_lent=\"sum\")\n",
    "money_lent_by_country"
   ]
  },
  {
   "cell_type": "markdown",
   "metadata": {},
   "source": [
    "### Money borrowed\n",
    "The answer to this question was found at Q5:"
   ]
  },
  {
   "cell_type": "code",
   "execution_count": null,
   "metadata": {},
   "outputs": [],
   "source": [
    "overall_money_borrowed"
   ]
  },
  {
   "cell_type": "markdown",
   "metadata": {},
   "source": [
    "The only problem is that in one dataset we have the full name, in the other its 2-letters version. Let's add in the borrowed dataset this new column:"
   ]
  },
  {
   "cell_type": "code",
   "execution_count": null,
   "metadata": {},
   "outputs": [],
   "source": [
    "country_code_name = loans_df[['country_code', 'country_name']].drop_duplicates()\n",
    "country_code_name.head()"
   ]
  },
  {
   "cell_type": "code",
   "execution_count": null,
   "metadata": {},
   "outputs": [],
   "source": [
    "country_code_name.shape"
   ]
  },
  {
   "cell_type": "markdown",
   "metadata": {},
   "source": [
    "Are there any NA?"
   ]
  },
  {
   "cell_type": "code",
   "execution_count": null,
   "metadata": {},
   "outputs": [],
   "source": [
    "sum(country_code_name.country_code.isna())"
   ]
  },
  {
   "cell_type": "code",
   "execution_count": null,
   "metadata": {},
   "outputs": [],
   "source": [
    "sum(country_code_name.country_name.isna())"
   ]
  },
  {
   "cell_type": "code",
   "execution_count": null,
   "metadata": {},
   "outputs": [],
   "source": [
    "country_code_name[country_code_name.country_code.isna()]"
   ]
  },
  {
   "cell_type": "markdown",
   "metadata": {},
   "source": [
    "Let's replace this value with NA, that, according to the ISO standard, is the correct code for Nambibia. Source: https://en.wikipedia.org/wiki/ISO_3166-2:NA"
   ]
  },
  {
   "cell_type": "code",
   "execution_count": null,
   "metadata": {},
   "outputs": [],
   "source": [
    "country_code_name.loc[country_code_name.country_code.isna(),'country_code'] = \"NA\""
   ]
  },
  {
   "cell_type": "code",
   "execution_count": null,
   "metadata": {},
   "outputs": [],
   "source": [
    "country_code_name[country_code_name.country_name == 'Namibia']"
   ]
  },
  {
   "cell_type": "markdown",
   "metadata": {},
   "source": [
    "Now let's attach the country_code to the borrowers dataset"
   ]
  },
  {
   "cell_type": "code",
   "execution_count": null,
   "metadata": {},
   "outputs": [],
   "source": [
    "money_borrowed_by_country = pd.merge(country_code_name, overall_money_borrowed, left_on=\"country_name\", right_index=True)\n",
    "money_borrowed_by_country.head()"
   ]
  },
  {
   "cell_type": "markdown",
   "metadata": {},
   "source": [
    "Let's now merge the borrowers and lenders:"
   ]
  },
  {
   "cell_type": "code",
   "execution_count": null,
   "metadata": {},
   "outputs": [],
   "source": [
    "money_lent_by_country.head()"
   ]
  },
  {
   "cell_type": "code",
   "execution_count": null,
   "metadata": {},
   "outputs": [],
   "source": [
    "lent_borrowed_by_country = pd.merge(money_lent_by_country, money_borrowed_by_country, left_index=True, right_on='country_code')\n",
    "lent_borrowed_by_country"
   ]
  },
  {
   "cell_type": "markdown",
   "metadata": {},
   "source": [
    "We can now compute the difference between money lent and money borrowed:"
   ]
  },
  {
   "cell_type": "code",
   "execution_count": null,
   "metadata": {},
   "outputs": [],
   "source": [
    "lent_borrowed_by_country['difference_lent_borr'] = lent_borrowed_by_country['overall_money_lent'] - lent_borrowed_by_country[\"Money_borrowed\"]\n",
    "lent_borrowed_by_country\n"
   ]
  },
  {
   "cell_type": "markdown",
   "metadata": {},
   "source": [
    "## 10. Which country has the highest ratio between the difference computed at the previous point and the population?"
   ]
  },
  {
   "cell_type": "markdown",
   "metadata": {},
   "source": [
    "The population infos are in the dataset country_stats.csv, therefore let's load it:"
   ]
  },
  {
   "cell_type": "code",
   "execution_count": null,
   "metadata": {},
   "outputs": [],
   "source": [
    "country_stats = pd.read_csv(\"additional-kiva-snapshot/country_stats.csv\")\n",
    "country_stats.head()"
   ]
  },
  {
   "cell_type": "code",
   "execution_count": null,
   "metadata": {},
   "outputs": [],
   "source": [
    "country_pop = country_stats[['country_name', 'population']]\n",
    "country_pop.head()"
   ]
  },
  {
   "cell_type": "markdown",
   "metadata": {},
   "source": [
    "Now we can join the two datasets in order to have the population for each country"
   ]
  },
  {
   "cell_type": "code",
   "execution_count": null,
   "metadata": {},
   "outputs": [],
   "source": [
    "country_pop_money_stats = pd.merge(lent_borrowed_by_country, country_pop, left_on=\"country_name\", right_on=\"country_name\")\n",
    "country_pop_money_stats.head()"
   ]
  },
  {
   "cell_type": "markdown",
   "metadata": {},
   "source": [
    "Computing the ratio now is easy: a ratio of the two columns is enough:"
   ]
  },
  {
   "cell_type": "code",
   "execution_count": null,
   "metadata": {},
   "outputs": [],
   "source": [
    "country_pop_money_stats['ratio_diff_money_pop']= country_pop_money_stats['difference_lent_borr']/country_pop_money_stats['population']\n",
    "country_pop_money_stats.head()"
   ]
  },
  {
   "cell_type": "code",
   "execution_count": null,
   "metadata": {},
   "outputs": [],
   "source": [
    "country_pop_money_stats.sort_values(by=['ratio_diff_money_pop'], ascending=False)"
   ]
  },
  {
   "cell_type": "markdown",
   "metadata": {},
   "source": [
    "The country with the highest ratio is Canada, with a value of 0.094904"
   ]
  },
  {
   "cell_type": "markdown",
   "metadata": {},
   "source": [
    "## 11. Which country has the highest ratio between the difference computed at point 9 and the population that is not below the poverty line?"
   ]
  },
  {
   "cell_type": "code",
   "execution_count": null,
   "metadata": {},
   "outputs": [],
   "source": [
    "country_stats.describe()"
   ]
  },
  {
   "cell_type": "markdown",
   "metadata": {},
   "source": [
    "Population below poverty line appears to be a percentage. Therefore the first step is to the compute the population NOT below the poverty line."
   ]
  },
  {
   "cell_type": "code",
   "execution_count": null,
   "metadata": {},
   "outputs": [],
   "source": [
    "country_stats['pop_above_poverty'] = (country_stats['population']/100) * (100 -country_stats['population_below_poverty_line'])\n",
    "country_stats.head()"
   ]
  },
  {
   "cell_type": "markdown",
   "metadata": {},
   "source": [
    "Now I can compute the desired ratio similar to the previous point."
   ]
  },
  {
   "cell_type": "code",
   "execution_count": null,
   "metadata": {},
   "outputs": [],
   "source": [
    "country_poverty = country_stats[['country_name', 'pop_above_poverty']]\n",
    "country_poverty.head()"
   ]
  },
  {
   "cell_type": "code",
   "execution_count": null,
   "metadata": {},
   "outputs": [],
   "source": [
    "country_poverty_money_stats = pd.merge(lent_borrowed_by_country, country_poverty, left_on=\"country_name\", right_on=\"country_name\")\n",
    "country_poverty_money_stats.head()"
   ]
  },
  {
   "cell_type": "code",
   "execution_count": null,
   "metadata": {},
   "outputs": [],
   "source": [
    "country_poverty_money_stats['ratio_diff_money_pop_above_pov']= country_poverty_money_stats['difference_lent_borr']/country_poverty_money_stats['pop_above_poverty']\n",
    "country_poverty_money_stats.head()"
   ]
  },
  {
   "cell_type": "code",
   "execution_count": null,
   "metadata": {},
   "outputs": [],
   "source": [
    "country_poverty_money_stats.sort_values(by=['ratio_diff_money_pop_above_pov'], ascending=False)"
   ]
  },
  {
   "cell_type": "markdown",
   "metadata": {},
   "source": [
    "Also in this case Canada has the highest ratio (0.10)"
   ]
  },
  {
   "cell_type": "markdown",
   "metadata": {},
   "source": [
    "## 12. For each year, compute the total amount of loans. Each loan that has planned expiration time and disburse time in different years must have its amount distributed proportionally to the number of days in each year.\n",
    "For example, a loan with disburse time December 1st, 2016, planned expiration time January 30th 2018, and amount 5000USD has an amount of 5000USD * 31 / (31+365+30) = 363.85 for 2016, 5000USD * 365 / (31+365+30) = 4284.04 for 2017, and 5000USD * 30 / (31+365+30) = 352.11 for 2018."
   ]
  },
  {
   "cell_type": "markdown",
   "metadata": {},
   "source": [
    "Should we consider both the disburse time and the planned expiration time? Let's see:"
   ]
  },
  {
   "cell_type": "code",
   "execution_count": null,
   "metadata": {},
   "outputs": [],
   "source": [
    "date(2018, 1, 30) - date(2016, 12, 1)"
   ]
  },
  {
   "cell_type": "markdown",
   "metadata": {},
   "source": [
    "The answer is yes, because in the example the total amount of days is 426: it is important, therefore, to add 1 every time the timedelta between two dates is computed in order to avoid any distortion"
   ]
  },
  {
   "cell_type": "markdown",
   "metadata": {},
   "source": [
    "For Q2 I computed the difference between the two dates: it will be useful to use this info for filtering some rows:"
   ]
  },
  {
   "cell_type": "code",
   "execution_count": null,
   "metadata": {},
   "outputs": [],
   "source": [
    "loans_filtered.shape"
   ]
  },
  {
   "cell_type": "code",
   "execution_count": null,
   "metadata": {},
   "outputs": [],
   "source": [
    "loans_filtered.head()"
   ]
  },
  {
   "cell_type": "code",
   "execution_count": null,
   "metadata": {},
   "outputs": [],
   "source": [
    "loans_filtered = loans_filtered[loans_filtered.diff_expiration_disburse.astype('timedelta64[D]')>0]\n",
    "loans_filtered.reset_index(inplace=True)"
   ]
  },
  {
   "cell_type": "code",
   "execution_count": null,
   "metadata": {},
   "outputs": [],
   "source": [
    "loans_filtered.diff_expiration_disburse.describe()"
   ]
  },
  {
   "cell_type": "code",
   "execution_count": null,
   "metadata": {},
   "outputs": [],
   "source": [
    "loans_filtered.disburse_time.describe()"
   ]
  },
  {
   "cell_type": "code",
   "execution_count": null,
   "metadata": {},
   "outputs": [],
   "source": [
    "loans_filtered.planned_expiration_time.describe()"
   ]
  },
  {
   "cell_type": "markdown",
   "metadata": {},
   "source": [
    "The range of useful dates goes from 2011 to 2018 in theory.\n",
    "Let's create a dictionary where each key is a year and each value is the total amount of money for loans in that year"
   ]
  },
  {
   "cell_type": "code",
   "execution_count": null,
   "metadata": {},
   "outputs": [],
   "source": [
    "loans_amount_per_year = {}\n",
    "unique_disburse_years = range(2011, 2019)\n",
    "for year in unique_disburse_years:\n",
    "    loans_amount_per_year[year] = 0"
   ]
  },
  {
   "cell_type": "code",
   "execution_count": null,
   "metadata": {},
   "outputs": [],
   "source": [
    "def compute_loans_days_for_each_year(start_date, end_date, loans_amount, loan_amount):\n",
    "    delta = (end_date - start_date).days\n",
    "    if delta < 0: # anomaly in data\n",
    "        return None\n",
    "    loan_per_day = loan_amount/(delta+1)\n",
    "    if start_date.year == end_date.year:\n",
    "        loans_amount[start_date.year] = loans_amount[start_date.year] + (delta + 1) * loan_per_day\n",
    "    elif end_date.year - start_date.year == 1:\n",
    "        days_of_loans_first_year = (date(start_date.year, 12, 31) - start_date).days + 1# days_of_loans in the first years\n",
    "        loans_amount[start_date.year] = loans_amount[start_date.year] + days_of_loans_first_year * loan_per_day\n",
    "        loans_amount[end_date.year] = loans_amount[end_date.year] + loan_per_day * (1 +((end_date - start_date).days - days_of_loans_first_year))\n",
    "    elif end_date.year - start_date.year > 1:\n",
    "        days_of_loans_first_year = (date(start_date.year, 12, 31) - start_date).days + 1\n",
    "        loans_amount[start_date.year] = loans_amount[start_date.year] + days_of_loans_first_year * loan_per_day\n",
    "        for year in range(start_date.year + 1, end_date.year):\n",
    "            loans_amount[year] = loans_amount[year] + loan_per_day * (1 + (date(year, 12, 31) - date(year, 1, 1)).days)\n",
    "        loans_amount[end_date.year] = loans_amount[end_date.year] + loan_per_day * (1 + (end_date - date(end_date.year, 1, 1)).days)"
   ]
  },
  {
   "cell_type": "markdown",
   "metadata": {},
   "source": [
    "Let's now test the function in the various scenarios. The first one is when the planned_expiration_time is before the disburse time: we expect to not increase any value in the dictionary because it is a clear anomaly"
   ]
  },
  {
   "cell_type": "code",
   "execution_count": null,
   "metadata": {},
   "outputs": [],
   "source": [
    "compute_loans_days_for_each_year(date(2012,1,1), date(2011,1,30),loans_amount_per_year, 1125)"
   ]
  },
  {
   "cell_type": "code",
   "execution_count": null,
   "metadata": {},
   "outputs": [],
   "source": [
    "loans_amount_per_year"
   ]
  },
  {
   "cell_type": "markdown",
   "metadata": {},
   "source": [
    "The second scenario is when both dates are in the same year: in this case the loan amount is 30, therefore the 2012 key should have a value of 30"
   ]
  },
  {
   "cell_type": "code",
   "execution_count": null,
   "metadata": {},
   "outputs": [],
   "source": [
    "compute_loans_days_for_each_year(date(2012,1,1), date(2012,1,30), loans_amount_per_year, 30)"
   ]
  },
  {
   "cell_type": "code",
   "execution_count": null,
   "metadata": {},
   "outputs": [],
   "source": [
    "loans_amount_per_year"
   ]
  },
  {
   "cell_type": "markdown",
   "metadata": {},
   "source": [
    "Let's now try the scenario where the two dates differ by one year.\n",
    "\n",
    "Expected result:\n",
    "- 2012 : 30 (previous run) + 732\n",
    "- 2013: 2\n",
    "\n",
    "All the other years set to 0"
   ]
  },
  {
   "cell_type": "code",
   "execution_count": null,
   "metadata": {},
   "outputs": [],
   "source": [
    "compute_loans_days_for_each_year(date(2012,1,1), date(2013,1,1), loans_amount_per_year, 734)"
   ]
  },
  {
   "cell_type": "code",
   "execution_count": null,
   "metadata": {},
   "outputs": [],
   "source": [
    "loans_amount_per_year"
   ]
  },
  {
   "cell_type": "markdown",
   "metadata": {},
   "source": [
    "It looks good: 2012 is bisestile and according to the specification both starting and ending dates have to be considered.\n",
    "\n",
    "Let's now test the last scenario:"
   ]
  },
  {
   "cell_type": "code",
   "execution_count": null,
   "metadata": {},
   "outputs": [],
   "source": [
    "(date(2015,1,1) - date(2013,4,30)).days"
   ]
  },
  {
   "cell_type": "code",
   "execution_count": null,
   "metadata": {},
   "outputs": [],
   "source": [
    "compute_loans_days_for_each_year(date(2013,4,30), date(2015,1,1), loans_amount_per_year, 612*3)"
   ]
  },
  {
   "cell_type": "code",
   "execution_count": null,
   "metadata": {},
   "outputs": [],
   "source": [
    "loans_amount_per_year"
   ]
  },
  {
   "cell_type": "code",
   "execution_count": null,
   "metadata": {},
   "outputs": [],
   "source": [
    "date(2013,12,31) -date(2013,4,30)"
   ]
  },
  {
   "cell_type": "markdown",
   "metadata": {},
   "source": [
    "So in 2013 there are 245 + 1 days, therefore the expected value for 2013 is:"
   ]
  },
  {
   "cell_type": "code",
   "execution_count": null,
   "metadata": {},
   "outputs": [],
   "source": [
    "246 * 3 + 2 # 2 is the value at the previous iteration"
   ]
  },
  {
   "cell_type": "markdown",
   "metadata": {},
   "source": [
    "For 2014 the expected value is:"
   ]
  },
  {
   "cell_type": "code",
   "execution_count": null,
   "metadata": {},
   "outputs": [],
   "source": [
    "365 * 3"
   ]
  },
  {
   "cell_type": "markdown",
   "metadata": {},
   "source": [
    "And for 2015 the expected is 3 because only the 1st January is considered: the procedure seems correct! We can now apply it on the whole dataset.\n",
    "\n",
    "Let's reset the results dictionary:"
   ]
  },
  {
   "cell_type": "code",
   "execution_count": null,
   "metadata": {},
   "outputs": [],
   "source": [
    "loans_amount_per_year = {}\n",
    "unique_disburse_years = range(2011, 2019)\n",
    "for year in unique_disburse_years:\n",
    "    loans_amount_per_year[year] = 0"
   ]
  },
  {
   "cell_type": "code",
   "execution_count": null,
   "metadata": {},
   "outputs": [],
   "source": [
    "%%time\n",
    "for i in range(0,loans_filtered.shape[0]):\n",
    "    compute_loans_days_for_each_year(loans_filtered.loc[i, 'disburse_time'].date(),\n",
    "                                     loans_filtered.loc[i, 'planned_expiration_time'].date(),\n",
    "                                     loans_amount_per_year,\n",
    "                                     loans_filtered.loc[i, 'loan_amount'])"
   ]
  },
  {
   "cell_type": "code",
   "execution_count": null,
   "metadata": {},
   "outputs": [],
   "source": [
    "loans_amount_per_year"
   ]
  }
 ],
 "metadata": {
  "kernelspec": {
   "display_name": "foundation",
   "language": "python",
   "name": "foundation"
  },
  "language_info": {
   "codemirror_mode": {
    "name": "ipython",
    "version": 3
   },
   "file_extension": ".py",
   "mimetype": "text/x-python",
   "name": "python",
   "nbconvert_exporter": "python",
   "pygments_lexer": "ipython3",
   "version": "3.6.8"
  }
 },
 "nbformat": 4,
 "nbformat_minor": 2
}
